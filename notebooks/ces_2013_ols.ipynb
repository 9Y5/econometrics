{
 "cells": [
  {
   "cell_type": "code",
   "execution_count": 1,
   "metadata": {},
   "outputs": [
    {
     "name": "stderr",
     "output_type": "stream",
     "text": [
      "/Users/yisheng/Projects/9y5/econometrics/env/lib/python3.6/site-packages/statsmodels/compat/pandas.py:56: FutureWarning: The pandas.core.datetools module is deprecated and will be removed in a future version. Please use the pandas.tseries module instead.\n",
      "  from pandas.core import datetools\n"
     ]
    }
   ],
   "source": [
    "import pandas as pd\n",
    "import statsmodels.api as sm"
   ]
  },
  {
   "cell_type": "code",
   "execution_count": 2,
   "metadata": {
    "collapsed": true
   },
   "outputs": [],
   "source": [
    "df = pd.read_csv('../data/ces2013.csv')"
   ]
  },
  {
   "cell_type": "code",
   "execution_count": 3,
   "metadata": {
    "collapsed": true
   },
   "outputs": [],
   "source": [
    "df = df[df.FDHO > 0] # filter FDHO > 0"
   ]
  },
  {
   "cell_type": "code",
   "execution_count": 4,
   "metadata": {
    "collapsed": true
   },
   "outputs": [],
   "source": [
    "results = sm.OLS(df.FDHO, sm.add_constant(df.EXP)).fit()"
   ]
  },
  {
   "cell_type": "code",
   "execution_count": 5,
   "metadata": {},
   "outputs": [
    {
     "data": {
      "text/html": [
       "<table class=\"simpletable\">\n",
       "<caption>OLS Regression Results</caption>\n",
       "<tr>\n",
       "  <th>Dep. Variable:</th>          <td>FDHO</td>       <th>  R-squared:         </th> <td>   0.351</td> \n",
       "</tr>\n",
       "<tr>\n",
       "  <th>Model:</th>                   <td>OLS</td>       <th>  Adj. R-squared:    </th> <td>   0.351</td> \n",
       "</tr>\n",
       "<tr>\n",
       "  <th>Method:</th>             <td>Least Squares</td>  <th>  F-statistic:       </th> <td>   3431.</td> \n",
       "</tr>\n",
       "<tr>\n",
       "  <th>Date:</th>             <td>Mon, 21 Aug 2017</td> <th>  Prob (F-statistic):</th>  <td>  0.00</td>  \n",
       "</tr>\n",
       "<tr>\n",
       "  <th>Time:</th>                 <td>00:41:29</td>     <th>  Log-Likelihood:    </th> <td> -48748.</td> \n",
       "</tr>\n",
       "<tr>\n",
       "  <th>No. Observations:</th>      <td>  6334</td>      <th>  AIC:               </th> <td>9.750e+04</td>\n",
       "</tr>\n",
       "<tr>\n",
       "  <th>Df Residuals:</th>          <td>  6332</td>      <th>  BIC:               </th> <td>9.751e+04</td>\n",
       "</tr>\n",
       "<tr>\n",
       "  <th>Df Model:</th>              <td>     1</td>      <th>                     </th>     <td> </td>    \n",
       "</tr>\n",
       "<tr>\n",
       "  <th>Covariance Type:</th>      <td>nonrobust</td>    <th>                     </th>     <td> </td>    \n",
       "</tr>\n",
       "</table>\n",
       "<table class=\"simpletable\">\n",
       "<tr>\n",
       "    <td></td>       <th>coef</th>     <th>std err</th>      <th>t</th>      <th>P>|t|</th>  <th>[0.025</th>    <th>0.975]</th>  \n",
       "</tr>\n",
       "<tr>\n",
       "  <th>const</th> <td>  369.4418</td> <td>   10.657</td> <td>   34.666</td> <td> 0.000</td> <td>  348.550</td> <td>  390.333</td>\n",
       "</tr>\n",
       "<tr>\n",
       "  <th>EXP</th>   <td>    0.0627</td> <td>    0.001</td> <td>   58.575</td> <td> 0.000</td> <td>    0.061</td> <td>    0.065</td>\n",
       "</tr>\n",
       "</table>\n",
       "<table class=\"simpletable\">\n",
       "<tr>\n",
       "  <th>Omnibus:</th>       <td>2386.301</td> <th>  Durbin-Watson:     </th> <td>   1.927</td> \n",
       "</tr>\n",
       "<tr>\n",
       "  <th>Prob(Omnibus):</th>  <td> 0.000</td>  <th>  Jarque-Bera (JB):  </th> <td>21677.738</td>\n",
       "</tr>\n",
       "<tr>\n",
       "  <th>Skew:</th>           <td> 1.546</td>  <th>  Prob(JB):          </th> <td>    0.00</td> \n",
       "</tr>\n",
       "<tr>\n",
       "  <th>Kurtosis:</th>       <td>11.519</td>  <th>  Cond. No.          </th> <td>1.59e+04</td> \n",
       "</tr>\n",
       "</table>"
      ],
      "text/plain": [
       "<class 'statsmodels.iolib.summary.Summary'>\n",
       "\"\"\"\n",
       "                            OLS Regression Results                            \n",
       "==============================================================================\n",
       "Dep. Variable:                   FDHO   R-squared:                       0.351\n",
       "Model:                            OLS   Adj. R-squared:                  0.351\n",
       "Method:                 Least Squares   F-statistic:                     3431.\n",
       "Date:                Mon, 21 Aug 2017   Prob (F-statistic):               0.00\n",
       "Time:                        00:41:29   Log-Likelihood:                -48748.\n",
       "No. Observations:                6334   AIC:                         9.750e+04\n",
       "Df Residuals:                    6332   BIC:                         9.751e+04\n",
       "Df Model:                           1                                         \n",
       "Covariance Type:            nonrobust                                         \n",
       "==============================================================================\n",
       "                 coef    std err          t      P>|t|      [0.025      0.975]\n",
       "------------------------------------------------------------------------------\n",
       "const        369.4418     10.657     34.666      0.000     348.550     390.333\n",
       "EXP            0.0627      0.001     58.575      0.000       0.061       0.065\n",
       "==============================================================================\n",
       "Omnibus:                     2386.301   Durbin-Watson:                   1.927\n",
       "Prob(Omnibus):                  0.000   Jarque-Bera (JB):            21677.738\n",
       "Skew:                           1.546   Prob(JB):                         0.00\n",
       "Kurtosis:                      11.519   Cond. No.                     1.59e+04\n",
       "==============================================================================\n",
       "\n",
       "Warnings:\n",
       "[1] Standard Errors assume that the covariance matrix of the errors is correctly specified.\n",
       "[2] The condition number is large, 1.59e+04. This might indicate that there are\n",
       "strong multicollinearity or other numerical problems.\n",
       "\"\"\""
      ]
     },
     "execution_count": 5,
     "metadata": {},
     "output_type": "execute_result"
    }
   ],
   "source": [
    "results.summary()"
   ]
  },
  {
   "cell_type": "code",
   "execution_count": 6,
   "metadata": {},
   "outputs": [
    {
     "data": {
      "text/plain": [
       "const    369.441758\n",
       "EXP        0.062710\n",
       "dtype: float64"
      ]
     },
     "execution_count": 6,
     "metadata": {},
     "output_type": "execute_result"
    }
   ],
   "source": [
    "results.params"
   ]
  },
  {
   "cell_type": "code",
   "execution_count": 23,
   "metadata": {},
   "outputs": [
    {
     "name": "stdout",
     "output_type": "stream",
     "text": [
      "ADM: n=2815.0, coeff=0.023456941175069156, r^2=0.2284350368237611\n",
      "CLOT: n=4500.0, coeff=0.03162324030372991, r^2=0.17597590606343272\n",
      "DOM: n=1661.0, coeff=0.04085154968381848, r^2=0.13393598222011516\n",
      "EDUC: n=561.0, coeff=0.12018391618376151, r^2=0.24050598130835077\n",
      "ELEC: n=5828.0, coeff=0.013099041903089234, r^2=0.17953421169561956\n",
      "EXP: n=6334.0, coeff=0.9999999999999987, r^2=1.0\n",
      "FDAW: n=5102.0, coeff=0.05270448193571886, r^2=0.35399334623355383\n",
      "FDHO: n=6334.0, coeff=0.0627098936358519, r^2=0.35142962523074006\n",
      "FOOT: n=1827.0, coeff=0.005753449964792445, r^2=0.08218288667208551\n",
      "FURN: n=487.0, coeff=0.05223110804940814, r^2=0.10240778264530093\n",
      "GASO: n=5710.0, coeff=0.0372745871299681, r^2=0.2780620570495127\n",
      "HEAL: n=4802.0, coeff=0.0574458973248711, r^2=0.1743169806355802\n",
      "HHTENURE: n=6334.0, coeff=-6.177345852678266e-05, r^2=0.08306945165298596\n",
      "HOUS: n=6223.0, coeff=0.19758171369926336, r^2=0.4692379671856196\n",
      "ID: n=6334.0, coeff=-0.766506437423469, r^2=0.01404213179166125\n",
      "LIFE: n=1253.0, coeff=0.0192976349762175, r^2=0.10112813337687154\n",
      "LOCT: n=692.0, coeff=0.0068396132012150425, r^2=0.05927537626019419\n",
      "MAPP: n=399.0, coeff=0.032901368035513426, r^2=0.10202438479631704\n",
      "PERS: n=3817.0, coeff=0.006886889409478742, r^2=0.2131373358413814\n",
      "READ: n=2287.0, coeff=0.004810760145452095, r^2=0.10394569033492995\n",
      "REFAGE: n=6334.0, coeff=-4.6325037516040135e-05, r^2=0.0002721671036852724\n",
      "REFEDUC: n=6310.0, coeff=8.860061997875848e-05, r^2=0.10111851469572564\n",
      "REFMS: n=6334.0, coeff=-7.020032795732601e-05, r^2=0.0742699861085262\n",
      "REFRACE: n=6334.0, coeff=-2.2009676564649693e-07, r^2=2.2156355898861335e-06\n",
      "REFSEX: n=6334.0, coeff=-5.0013487787207145e-06, r^2=0.00392322306677606\n",
      "REGION: n=6298.0, coeff=2.9101132779739995e-07, r^2=3.126442691736564e-06\n",
      "SAPP: n=1037.0, coeff=0.0044923273541926274, r^2=0.03393386048296665\n",
      "SIZE: n=6334.0, coeff=5.508602979744879e-05, r^2=0.052535261578327996\n",
      "SIZEAF: n=5287.0, coeff=1.8143390321481103e-06, r^2=0.0005106901412603726\n",
      "SIZEAM: n=4899.0, coeff=7.900576015967463e-06, r^2=0.010243841390192188\n",
      "SIZEIN: n=425.0, coeff=1.0392680945404354e-06, r^2=0.0005920213053575152\n",
      "SIZEJF: n=1116.0, coeff=-8.193951313025229e-08, r^2=8.479090348734175e-07\n",
      "SIZEJM: n=1117.0, coeff=3.779844576618504e-06, r^2=0.0016827655850362166\n",
      "TELE: n=5788.0, coeff=0.015995500294115065, r^2=0.26812101479860606\n",
      "TEXT: n=992.0, coeff=0.004038379895553446, r^2=0.05128866152421563\n",
      "TOB: n=1155.0, coeff=0.01648146368473261, r^2=0.08824836106535217\n",
      "TOYS: n=2504.0, coeff=0.014546198632086513, r^2=0.07598245690309835\n",
      "TRIP: n=516.0, coeff=0.04660523689388603, r^2=0.18601857779800357\n",
      "URBAN: n=6334.0, coeff=-1.6891348150159274e-06, r^2=0.0022820357343935616\n"
     ]
    }
   ],
   "source": [
    "coefficients = dict()\n",
    "for col in df.columns:\n",
    "    df_tmp = df[df[col] > 0]\n",
    "    results = sm.OLS(df_tmp[col], sm.add_constant(df_tmp.EXP)).fit()\n",
    "    print('{}: n={}, coeff={}, r^2={}'.format(col, results.nobs, results.params[1], results.rsquared))\n",
    "    coefficients[results.params[1]] = (col, results.nobs)"
   ]
  },
  {
   "cell_type": "code",
   "execution_count": 32,
   "metadata": {},
   "outputs": [
    {
     "name": "stdout",
     "output_type": "stream",
     "text": [
      "EXP 1.0  100.0%\n",
      "HOUS 0.1976  98.2%\n",
      "EDUC 0.1202  8.9%\n",
      "FDHO 0.0627  100.0%\n",
      "HEAL 0.0574  75.8%\n",
      "FDAW 0.0527  80.5%\n",
      "FURN 0.0522  7.7%\n",
      "TRIP 0.0466  8.1%\n",
      "DOM 0.0409  26.2%\n",
      "GASO 0.0373  90.1%\n",
      "MAPP 0.0329  6.3%\n",
      "CLOT 0.0316  71.0%\n",
      "ADM 0.0235  44.4%\n",
      "LIFE 0.0193  19.8%\n",
      "TOB 0.0165  18.2%\n",
      "TELE 0.016  91.4%\n",
      "TOYS 0.0145  39.5%\n",
      "ELEC 0.0131  92.0%\n",
      "PERS 0.0069  60.3%\n",
      "LOCT 0.0068  10.9%\n",
      "FOOT 0.0058  28.8%\n",
      "READ 0.0048  36.1%\n",
      "SAPP 0.0045  16.4%\n",
      "TEXT 0.004  15.7%\n",
      "REFEDUC 0.0001  99.6%\n",
      "SIZE 0.0001  100.0%\n",
      "SIZEAM 0.0  77.3%\n",
      "SIZEJM 0.0  17.6%\n",
      "SIZEAF 0.0  83.5%\n",
      "SIZEIN 0.0  6.7%\n",
      "REGION 0.0  99.4%\n",
      "SIZEJF -0.0  17.6%\n",
      "REFRACE -0.0  100.0%\n",
      "URBAN -0.0  100.0%\n",
      "REFSEX -0.0  100.0%\n",
      "REFAGE -0.0  100.0%\n",
      "HHTENURE -0.0001  100.0%\n",
      "REFMS -0.0001  100.0%\n",
      "ID -0.7665  100.0%\n"
     ]
    }
   ],
   "source": [
    "for c in sorted(coefficients, reverse=True):\n",
    "    col, n = coefficients[c]\n",
    "    print(col, round(c, 4), '{0: .1f}%'.format(n / len(df) * 100))"
   ]
  },
  {
   "cell_type": "markdown",
   "metadata": {},
   "source": [
    "We sort the coefficients of each feature and see that\n",
    "- When people's income increase, they spend more on housing and education\n",
    "- Followed by food and healthcare\n",
    "- however, we note that while housing is explained by 98% of observations, education is only explained by 8.9%. i.e. when income increases, ~8.9% of people will increase their spending on education, and when they do, it is a significant portion of their income. For housing however, 98.2% of people would increase spending on housing."
   ]
  },
  {
   "cell_type": "code",
   "execution_count": null,
   "metadata": {
    "collapsed": true
   },
   "outputs": [],
   "source": []
  }
 ],
 "metadata": {
  "kernelspec": {
   "display_name": "Python 3",
   "language": "python",
   "name": "python3"
  },
  "language_info": {
   "codemirror_mode": {
    "name": "ipython",
    "version": 3
   },
   "file_extension": ".py",
   "mimetype": "text/x-python",
   "name": "python",
   "nbconvert_exporter": "python",
   "pygments_lexer": "ipython3",
   "version": "3.6.1"
  }
 },
 "nbformat": 4,
 "nbformat_minor": 2
}
